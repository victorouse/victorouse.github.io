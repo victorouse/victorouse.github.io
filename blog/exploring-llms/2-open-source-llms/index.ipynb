{
  "cells": [
    {
      "cell_type": "raw",
      "metadata": {
        "id": "x777ztB0-dfi"
      },
      "source": [
        "---\n",
        "title: \"Part 2: Open Source LLMs\"\n",
        "order: 2\n",
        "image: \"https://placehold.co/1600x900/f7f7f7/121212.png?text=Open+Source+LLMs&font=playfair-display\"\n",
        "description: \"How to actually download and run open source LLMs.\"\n",
        "author: Victor Roussekov\n",
        "date: 2023-09-19\n",
        "date-modified: last-modified\n",
        "categories: [\"Python\", \"Notebook\"]\n",
        "\n",
        "twitter-card: \n",
        "  title: Victor Roussekov\n",
        "  creator: \"@victorouse\"\n",
        "  site: \"@victorouse\"\n",
        "  description: \"How to actually download and run open source LLMs.\"\n",
        "\n",
        "share:\n",
        "  permalink: https://victorouse.zip/blog/exploring-llms/2-open-source-llms\n",
        "  description: What he said 👉\n",
        "  twitter: true\n",
        "  reddit: true\n",
        "  linkedin: true\n",
        "  email: true\n",
        "  mastodon: true\n",
        "\n",
        "citation: true\n",
        "---"
      ]
    },
    {
      "cell_type": "markdown",
      "metadata": {
        "colab_type": "text",
        "id": "view-in-github"
      },
      "source": [
        "<a href=\"https://colab.research.google.com/github/victorouse/victorouse.github.io/blob/main/blog/exploring-llms/2-open-source-llms/index.ipynb\" target=\"_parent\"><img src=\"https://colab.research.google.com/assets/colab-badge.svg\" alt=\"Open In Colab\"/></a>"
      ]
    },
    {
      "cell_type": "markdown",
      "metadata": {},
      "source": [
        "---"
      ]
    },
    {
      "cell_type": "markdown",
      "metadata": {
        "id": "dR7Bf09i-dfk"
      },
      "source": [
        "### HuggingFace\n",
        "\n",
        "Models created by the Open Source community are generally written in Python using frameworks like [PyTorch](https://pytorch.org/) and [Tensorflow](https://www.tensorflow.org/).\n",
        "\n",
        "Each model will have its own instructions on how to compile and run them.\n",
        "\n",
        "One popular library that abstracts the downloading, loading, and API of [compatible] models is the HuggingFace [transformers](https://github.com/huggingface/transformers) library.\n",
        "\n",
        "The `transformers` library is able to download and load any model published on the [HuggingFace Hub](https://huggingface.co/docs/hub/index)."
      ]
    },
    {
      "cell_type": "markdown",
      "metadata": {
        "id": "aYFcmXsA-dfk",
        "tags": [
          "huggingface-setup"
        ]
      },
      "source": [
        "First, we will need to create a HuggingFace Account and login using the HuggingFace CLI."
      ]
    },
    {
      "cell_type": "code",
      "execution_count": 8,
      "metadata": {
        "colab": {
          "base_uri": "https://localhost:8080/"
        },
        "id": "5tMImbgS-dfk",
        "outputId": "a8175e8e-dddf-40ca-95fa-2875f67df5fd",
        "vscode": {
          "languageId": "shellscript"
        }
      },
      "outputs": [
        {
          "name": "stdout",
          "output_type": "stream",
          "text": [
            "Requirement already satisfied: huggingface_hub in /usr/local/lib/python3.10/dist-packages (0.17.2)\n",
            "Requirement already satisfied: filelock in /usr/local/lib/python3.10/dist-packages (from huggingface_hub) (3.12.2)\n",
            "Requirement already satisfied: fsspec in /usr/local/lib/python3.10/dist-packages (from huggingface_hub) (2023.6.0)\n",
            "Requirement already satisfied: requests in /usr/local/lib/python3.10/dist-packages (from huggingface_hub) (2.31.0)\n",
            "Requirement already satisfied: tqdm>=4.42.1 in /usr/local/lib/python3.10/dist-packages (from huggingface_hub) (4.66.1)\n",
            "Requirement already satisfied: pyyaml>=5.1 in /usr/local/lib/python3.10/dist-packages (from huggingface_hub) (6.0.1)\n",
            "Requirement already satisfied: typing-extensions>=3.7.4.3 in /usr/local/lib/python3.10/dist-packages (from huggingface_hub) (4.5.0)\n",
            "Requirement already satisfied: packaging>=20.9 in /usr/local/lib/python3.10/dist-packages (from huggingface_hub) (23.1)\n",
            "Requirement already satisfied: charset-normalizer<4,>=2 in /usr/local/lib/python3.10/dist-packages (from requests->huggingface_hub) (3.2.0)\n",
            "Requirement already satisfied: idna<4,>=2.5 in /usr/local/lib/python3.10/dist-packages (from requests->huggingface_hub) (3.4)\n",
            "Requirement already satisfied: urllib3<3,>=1.21.1 in /usr/local/lib/python3.10/dist-packages (from requests->huggingface_hub) (2.0.4)\n",
            "Requirement already satisfied: certifi>=2017.4.17 in /usr/local/lib/python3.10/dist-packages (from requests->huggingface_hub) (2023.7.22)\n"
          ]
        }
      ],
      "source": [
        "!pip install huggingface_hub"
      ]
    },
    {
      "cell_type": "code",
      "execution_count": 9,
      "metadata": {
        "colab": {
          "base_uri": "https://localhost:8080/"
        },
        "id": "O6VH26Qr-dfk",
        "outputId": "2c527e29-9819-45c0-cc3a-518d0417b183",
        "vscode": {
          "languageId": "shellscript"
        }
      },
      "outputs": [
        {
          "name": "stdout",
          "output_type": "stream",
          "text": [
            "\n",
            "    _|    _|  _|    _|    _|_|_|    _|_|_|  _|_|_|  _|      _|    _|_|_|      _|_|_|_|    _|_|      _|_|_|  _|_|_|_|\n",
            "    _|    _|  _|    _|  _|        _|          _|    _|_|    _|  _|            _|        _|    _|  _|        _|\n",
            "    _|_|_|_|  _|    _|  _|  _|_|  _|  _|_|    _|    _|  _|  _|  _|  _|_|      _|_|_|    _|_|_|_|  _|        _|_|_|\n",
            "    _|    _|  _|    _|  _|    _|  _|    _|    _|    _|    _|_|  _|    _|      _|        _|    _|  _|        _|\n",
            "    _|    _|    _|_|      _|_|_|    _|_|_|  _|_|_|  _|      _|    _|_|_|      _|        _|    _|    _|_|_|  _|_|_|_|\n",
            "    \n",
            "    A token is already saved on your machine. Run `huggingface-cli whoami` to get more information or `huggingface-cli logout` if you want to log out.\n",
            "    Setting a new token will erase the existing one.\n",
            "    To login, `huggingface_hub` requires a token generated from https://huggingface.co/settings/tokens .\n",
            "Token: \n",
            "Add token as git credential? (Y/n) n\n",
            "Token is valid (permission: read).\n",
            "Your token has been saved to /root/.cache/huggingface/token\n",
            "Login successful\n"
          ]
        }
      ],
      "source": [
        "!huggingface-cli login"
      ]
    },
    {
      "cell_type": "markdown",
      "metadata": {
        "id": "kxHcjEqU-dfl"
      },
      "source": [
        "After we've logged in, we now have access to all the `transformers` [models](https://huggingface.co/models?library=transformers&sort=downloads) on HuggingFace.\n",
        "\n",
        "We can now pick a model, and use the `pipeline` function from the `transformers` library to download and load our model."
      ]
    },
    {
      "cell_type": "code",
      "execution_count": 10,
      "metadata": {
        "colab": {
          "base_uri": "https://localhost:8080/"
        },
        "id": "yyfLsBE--dfl",
        "outputId": "a7726761-ed0c-4a19-aff4-7684d6bccffb",
        "vscode": {
          "languageId": "shellscript"
        }
      },
      "outputs": [
        {
          "name": "stdout",
          "output_type": "stream",
          "text": [
            "Requirement already satisfied: transformers in /usr/local/lib/python3.10/dist-packages (4.33.2)\n",
            "Requirement already satisfied: filelock in /usr/local/lib/python3.10/dist-packages (from transformers) (3.12.2)\n",
            "Requirement already satisfied: huggingface-hub<1.0,>=0.15.1 in /usr/local/lib/python3.10/dist-packages (from transformers) (0.17.2)\n",
            "Requirement already satisfied: numpy>=1.17 in /usr/local/lib/python3.10/dist-packages (from transformers) (1.23.5)\n",
            "Requirement already satisfied: packaging>=20.0 in /usr/local/lib/python3.10/dist-packages (from transformers) (23.1)\n",
            "Requirement already satisfied: pyyaml>=5.1 in /usr/local/lib/python3.10/dist-packages (from transformers) (6.0.1)\n",
            "Requirement already satisfied: regex!=2019.12.17 in /usr/local/lib/python3.10/dist-packages (from transformers) (2023.6.3)\n",
            "Requirement already satisfied: requests in /usr/local/lib/python3.10/dist-packages (from transformers) (2.31.0)\n",
            "Requirement already satisfied: tokenizers!=0.11.3,<0.14,>=0.11.1 in /usr/local/lib/python3.10/dist-packages (from transformers) (0.13.3)\n",
            "Requirement already satisfied: safetensors>=0.3.1 in /usr/local/lib/python3.10/dist-packages (from transformers) (0.3.3)\n",
            "Requirement already satisfied: tqdm>=4.27 in /usr/local/lib/python3.10/dist-packages (from transformers) (4.66.1)\n",
            "Requirement already satisfied: fsspec in /usr/local/lib/python3.10/dist-packages (from huggingface-hub<1.0,>=0.15.1->transformers) (2023.6.0)\n",
            "Requirement already satisfied: typing-extensions>=3.7.4.3 in /usr/local/lib/python3.10/dist-packages (from huggingface-hub<1.0,>=0.15.1->transformers) (4.5.0)\n",
            "Requirement already satisfied: charset-normalizer<4,>=2 in /usr/local/lib/python3.10/dist-packages (from requests->transformers) (3.2.0)\n",
            "Requirement already satisfied: idna<4,>=2.5 in /usr/local/lib/python3.10/dist-packages (from requests->transformers) (3.4)\n",
            "Requirement already satisfied: urllib3<3,>=1.21.1 in /usr/local/lib/python3.10/dist-packages (from requests->transformers) (2.0.4)\n",
            "Requirement already satisfied: certifi>=2017.4.17 in /usr/local/lib/python3.10/dist-packages (from requests->transformers) (2023.7.22)\n"
          ]
        }
      ],
      "source": [
        "!pip install transformers"
      ]
    },
    {
      "cell_type": "code",
      "execution_count": 11,
      "metadata": {
        "colab": {
          "base_uri": "https://localhost:8080/"
        },
        "id": "rYwiOREz-dfl",
        "outputId": "a271bdee-f23a-4b7d-9e5a-aac00192dda7"
      },
      "outputs": [
        {
          "name": "stderr",
          "output_type": "stream",
          "text": [
            "No model was supplied, defaulted to distilbert-base-uncased-finetuned-sst-2-english and revision af0f99b (https://huggingface.co/distilbert-base-uncased-finetuned-sst-2-english).\n",
            "Using a pipeline without specifying a model name and revision in production is not recommended.\n"
          ]
        },
        {
          "name": "stdout",
          "output_type": "stream",
          "text": [
            "[{'label': 'POSITIVE', 'score': 0.9995536208152771}]\n",
            "[{'label': 'NEGATIVE', 'score': 0.9954286813735962}]\n"
          ]
        }
      ],
      "source": [
        "from transformers import pipeline\n",
        "\n",
        "classifier = pipeline('sentiment-analysis')\n",
        "print(classifier('I love cats'))\n",
        "print(classifier('I hate dogs'))"
      ]
    },
    {
      "cell_type": "markdown",
      "metadata": {
        "id": "QtQ78s22-dfl"
      },
      "source": [
        "Note that we passed the string argument `sentiment-analysis`, which itself is not actually a model, but a [task](https://huggingface.co/docs/transformers/main/en/task_summary).\n",
        "\n",
        "Tasks in this context refer to common Natrual Language Processing (NLP) tasks, with `sentiment-analysis` being one of them.\n",
        "\n",
        "Each task has it's own string identifier, i.e. `sentiment-analysis` and a default model that is used for the task.\n",
        "\n",
        "This is why we observed the following output from the previous step:\n",
        "\n",
        "```shell\n",
        "No model was supplied, defaulted to distilbert-base-uncased-finetuned-sst-2-english and revision af0f99b (https://huggingface.co/distilbert-base-uncased-finetuned-sst-2-english).\n",
        "```\n",
        "\n",
        "We can see that the task is using the [distilbert-base-uncased-finetuned-sst-2-english](https://huggingface.co/distilbert-base-uncased-finetuned-sst-2-english) model downloaded from HuggingFace.\n",
        "\n",
        "We can specify an alternative model, such as the [finiteautomata/bertweet-base-sentiment-analysis](https://huggingface.co/finiteautomata/bertweet-base-sentiment-analysis) model by providing a `model` argument to the `pipeline` function:"
      ]
    },
    {
      "cell_type": "code",
      "execution_count": 12,
      "metadata": {
        "colab": {
          "base_uri": "https://localhost:8080/"
        },
        "id": "Fbz4k8Qs-dfl",
        "outputId": "e07955ba-81a0-46ff-8881-dc82f6339531",
        "vscode": {
          "languageId": "shellscript"
        }
      },
      "outputs": [
        {
          "name": "stdout",
          "output_type": "stream",
          "text": [
            "Requirement already satisfied: emoji in /usr/local/lib/python3.10/dist-packages (2.8.0)\n"
          ]
        }
      ],
      "source": [
        "!pip install emoji"
      ]
    },
    {
      "cell_type": "code",
      "execution_count": 13,
      "metadata": {
        "colab": {
          "base_uri": "https://localhost:8080/"
        },
        "id": "-BqOl7Ir-dfl",
        "outputId": "f0aeb384-936f-48a5-fd88-973d21499fc3"
      },
      "outputs": [
        {
          "name": "stdout",
          "output_type": "stream",
          "text": [
            "[{'label': 'POS', 'score': 0.9926522970199585}]\n",
            "[{'label': 'NEG', 'score': 0.9819341897964478}]\n",
            "[{'label': 'POS', 'score': 0.9817819595336914}]\n"
          ]
        }
      ],
      "source": [
        "# This classifier is trained on Tweets!\n",
        "classifier = pipeline(model=\"finiteautomata/bertweet-base-sentiment-analysis\")\n",
        "\n",
        "print(classifier('I love Elon Musk'))\n",
        "print(classifier('I hate Elon Musk'))\n",
        "print(classifier('OpenAI is good'))"
      ]
    }
  ],
  "metadata": {
    "colab": {
      "include_colab_link": true,
      "provenance": []
    },
    "kernelspec": {
      "display_name": "victorouse--mQ1V7xy-py3.11",
      "language": "python",
      "name": "python3"
    },
    "language_info": {
      "codemirror_mode": {
        "name": "ipython",
        "version": 3
      },
      "file_extension": ".py",
      "mimetype": "text/x-python",
      "name": "python",
      "nbconvert_exporter": "python",
      "pygments_lexer": "ipython3",
      "version": "3.11.4"
    },
    "orig_nbformat": 4
  },
  "nbformat": 4,
  "nbformat_minor": 0
}
