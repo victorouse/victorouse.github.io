{
  "cells": [
    {
      "cell_type": "raw",
      "metadata": {
        "id": "x777ztB0-dfi"
      },
      "source": [
        "---\n",
        "order: 3\n",
        "title: \"Part 3: Notebooks\"\n",
        "description: \"How to run open source LLMs and run experiments in Jupyter Notebooks, both on the cloud and on your own hardware (CPU _and_ GPU).\"\n",
        "image: \"https://placehold.co/1600x900/f7f7f7/121212.png?text=Notebooks&font=playfair-display\"\n",
        "author: Victor Roussekov\n",
        "date: 2023-09-23\n",
        "date-modified: last-modified\n",
        "categories: [\"Python\", \"Notebook\"]\n",
        "citation: true\n",
        "\n",
        "share:\n",
        "  permalink: https://victorouse.zip/blog/exploring-llms/3-notebooks?1337\n",
        "  description: What he said 👉\n",
        "---"
      ]
    },
    {
      "cell_type": "markdown",
      "metadata": {
        "colab_type": "text",
        "id": "view-in-github"
      },
      "source": [
        "<a href=\"https://colab.research.google.com/github/victorouse/victorouse.github.io/blob/main/blog/exploring-llms/3-notebooks/index.ipynb\" target=\"_parent\"><img src=\"https://colab.research.google.com/assets/colab-badge.svg\" alt=\"Open In Colab\"/></a>"
      ]
    },
    {
      "cell_type": "markdown",
      "metadata": {
        "id": "qjfwCuLn-dfj"
      },
      "source": [
        "---"
      ]
    },
    {
      "cell_type": "markdown",
      "metadata": {
        "id": "q8FZIpVnAwWG"
      },
      "source": [
        "TODO."
      ]
    }
  ],
  "metadata": {
    "colab": {
      "include_colab_link": true,
      "provenance": []
    },
    "kernelspec": {
      "display_name": "victorouse--mQ1V7xy-py3.11",
      "language": "python",
      "name": "python3"
    },
    "language_info": {
      "codemirror_mode": {
        "name": "ipython",
        "version": 3
      },
      "file_extension": ".py",
      "mimetype": "text/x-python",
      "name": "python",
      "nbconvert_exporter": "python",
      "pygments_lexer": "ipython3",
      "version": "3.11.4"
    },
    "orig_nbformat": 4
  },
  "nbformat": 4,
  "nbformat_minor": 0
}
