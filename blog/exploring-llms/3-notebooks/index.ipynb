{
  "cells": [
    {
      "cell_type": "markdown",
      "metadata": {
        "id": "view-in-github",
        "colab_type": "text"
      },
      "source": [
        "<a href=\"https://colab.research.google.com/github/victorouse/victorouse.github.io/blob/main/blog/exploring-llms/3-notebooks/index.ipynb\" target=\"_parent\"><img src=\"https://colab.research.google.com/assets/colab-badge.svg\" alt=\"Open In Colab\"/></a>"
      ]
    },
    {
      "cell_type": "raw",
      "metadata": {
        "id": "x777ztB0-dfi"
      },
      "source": [
        "---\n",
        "order: 3\n",
        "title: \"Part 3: Notebooks\"\n",
        "description: \"How to run open source LLMs and run experiments in Jupyter Notebooks, both on the cloud and on your own hardware (CPU _and_ GPU).\"\n",
        "image: \"https://placehold.co/1600x900/f7f7f7/121212.png?text=Notebooks&font=playfair-display\"\n",
        "author: Victor Roussekov\n",
        "date: 2023-09-23\n",
        "date-modified: last-modified\n",
        "categories: [\"Python\", \"Notebook\"]\n",
        "citation: true\n",
        "\n",
        "share:\n",
        "  permalink: https://victorouse.zip/blog/exploring-llms/3-notebooks?1337\n",
        "  description: What he said 👉\n",
        "  twitter: true\n",
        "  reddit: true\n",
        "  linkedin: true\n",
        "  email: true\n",
        "---"
      ]
    },
    {
      "cell_type": "markdown",
      "metadata": {
        "id": "view-in-github"
      },
      "source": [
        "<a href=\"https://colab.research.google.com/github/victorouse/victorouse.github.io/blob/main/blog/exploring-llms/3-notebooks/index.ipynb\" target=\"_parent\"><img src=\"https://colab.research.google.com/assets/colab-badge.svg\" alt=\"Open In Colab\"/></a>"
      ]
    },
    {
      "cell_type": "markdown",
      "metadata": {
        "id": "qjfwCuLn-dfj"
      },
      "source": [
        "---"
      ]
    },
    {
      "cell_type": "code",
      "source": [
        "print(\"Hello world!\")"
      ],
      "metadata": {
        "id": "upeAHlNuL85j",
        "outputId": "c058ff5c-8df3-499b-e2e3-3d711927394a",
        "colab": {
          "base_uri": "https://localhost:8080/"
        }
      },
      "execution_count": 1,
      "outputs": [
        {
          "output_type": "stream",
          "name": "stdout",
          "text": [
            "Hello world!\n"
          ]
        }
      ]
    },
    {
      "cell_type": "markdown",
      "source": [],
      "metadata": {
        "id": "1ooO9SaNL8ii"
      }
    },
    {
      "cell_type": "markdown",
      "metadata": {
        "id": "q8FZIpVnAwWG"
      },
      "source": [
        "TODO."
      ]
    }
  ],
  "metadata": {
    "colab": {
      "provenance": [],
      "include_colab_link": true
    },
    "kernelspec": {
      "display_name": "victorouse--mQ1V7xy-py3.11",
      "language": "python",
      "name": "python3"
    },
    "language_info": {
      "codemirror_mode": {
        "name": "ipython",
        "version": 3
      },
      "file_extension": ".py",
      "mimetype": "text/x-python",
      "name": "python",
      "nbconvert_exporter": "python",
      "pygments_lexer": "ipython3",
      "version": "3.11.4"
    },
    "orig_nbformat": 4
  },
  "nbformat": 4,
  "nbformat_minor": 0
}