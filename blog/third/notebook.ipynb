{
 "cells": [
  {
   "cell_type": "raw",
   "metadata": {},
   "source": [
    "---\n",
    "title: Notebook\n",
    "author: Victor Roussekov\n",
    "date: 2023-09-15\n",
    "date-modified: last-modified\n",
    "categories: [Python, Notebook]\n",
    "\n",
    "share:\n",
    "  permalink: https://victorouse.github.io/blog/third/notebook\n",
    "  description: What he said 👉\n",
    "  twitter: true\n",
    "  reddit: true\n",
    "  linkedin: true\n",
    "  email: true\n",
    "  mastodon: true\n",
    "\n",
    "citation: true\n",
    "---"
   ]
  },
  {
   "cell_type": "markdown",
   "metadata": {},
   "source": [
    "---"
   ]
  },
  {
   "cell_type": "code",
   "execution_count": 1,
   "metadata": {},
   "outputs": [
    {
     "name": "stdout",
     "output_type": "stream",
     "text": [
      "Hello World!\n"
     ]
    }
   ],
   "source": [
    "print(\"Hello World\")"
   ]
  }
 ],
 "metadata": {
  "kernelspec": {
   "display_name": "victorouse--mQ1V7xy-py3.11",
   "language": "python",
   "name": "python3"
  },
  "language_info": {
   "codemirror_mode": {
    "name": "ipython",
    "version": 3
   },
   "file_extension": ".py",
   "mimetype": "text/x-python",
   "name": "python",
   "nbconvert_exporter": "python",
   "pygments_lexer": "ipython3",
   "version": "3.11.4"
  },
  "orig_nbformat": 4
 },
 "nbformat": 4,
 "nbformat_minor": 2
}
